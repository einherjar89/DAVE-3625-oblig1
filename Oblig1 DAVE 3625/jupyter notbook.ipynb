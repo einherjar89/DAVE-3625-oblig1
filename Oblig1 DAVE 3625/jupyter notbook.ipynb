{
 "cells": [
  {
   "cell_type": "markdown",
   "id": "3a249863-1d55-4e7a-8fc9-dec5fb7208c4",
   "metadata": {},
   "source": [
    "Group Member\n",
    "1. Shefaa Al Sayed, s369566\n",
    "2. Munieh Hejo , s375148\n",
    "3. Even Andre Karlsen,  S374203 har gjort oppgave 7-10\n",
    "4. gf"
   ]
  },
  {
   "cell_type": "raw",
   "id": "27f84337-bbac-4767-a6c7-d9103149b0f5",
   "metadata": {},
   "source": []
  },
  {
   "cell_type": "code",
   "execution_count": 57,
   "id": "7826e3f5-59a3-49a6-be1b-af58bdd574fb",
   "metadata": {},
   "outputs": [],
   "source": [
    "# Importing the pandas library\n",
    "import pandas as pd\n",
    "# importing the numpy libraries\n",
    "import numpy as np"
   ]
  },
  {
   "cell_type": "markdown",
   "id": "2a94b2a8-f1ef-42c1-a1f7-c7d0e0ae25c3",
   "metadata": {},
   "source": [
    "Question 1:\n",
    "\n",
    "Read the CSV file in Pandas and create a DataFrame named Grc_df. What is the number of\n",
    "rows and columns in Grc_df? Print the first 10 and last 10 rows of Grc_df"
   ]
  },
  {
   "cell_type": "markdown",
   "id": "4139ad03-aa22-4a84-8266-63cc2e9fda8b",
   "metadata": {},
   "source": [
    "\n",
    "Answer:\n",
    "\n",
    "numbers of rows: 5000, number of colums: 12"
   ]
  },
  {
   "cell_type": "code",
   "execution_count": 25,
   "id": "41d1115d-29cb-4f97-865e-17e2c3922090",
   "metadata": {},
   "outputs": [
    {
     "name": "stdout",
     "output_type": "stream",
     "text": [
      "Number of rows: 5000\n",
      "Number of columns: 12\n"
     ]
    }
   ],
   "source": [
    "# Reading the CSV file into a DataFrame named Grc_df\n",
    "# Replace 'Grocery_dataset.csv' with the actual path to your CSV file\n",
    "Grc_df = pd.read_csv('Grocery_dataset.csv')\n",
    "\n",
    "# Print the number of rows and columns in the DataFrame\n",
    "num_rows, num_columns = Grc_df.shape\n",
    "print(f\"Number of rows: {num_rows}\")\n",
    "print(f\"Number of columns: {num_columns}\")\n"
   ]
  },
  {
   "cell_type": "code",
   "execution_count": 31,
   "id": "ff47f401-8661-4b5e-bd1b-7925eb71518c",
   "metadata": {},
   "outputs": [
    {
     "data": {
      "text/html": [
       "<div>\n",
       "<style scoped>\n",
       "    .dataframe tbody tr th:only-of-type {\n",
       "        vertical-align: middle;\n",
       "    }\n",
       "\n",
       "    .dataframe tbody tr th {\n",
       "        vertical-align: top;\n",
       "    }\n",
       "\n",
       "    .dataframe thead th {\n",
       "        text-align: right;\n",
       "    }\n",
       "</style>\n",
       "<table border=\"1\" class=\"dataframe\">\n",
       "  <thead>\n",
       "    <tr style=\"text-align: right;\">\n",
       "      <th></th>\n",
       "      <th>Item_Identifier</th>\n",
       "      <th>Item_Weight</th>\n",
       "      <th>Item_Fat_Content</th>\n",
       "      <th>Item_Visibility</th>\n",
       "      <th>Item_Type</th>\n",
       "      <th>Item_MRP</th>\n",
       "      <th>Outlet_Identifier</th>\n",
       "      <th>Outlet_Establishment_Year</th>\n",
       "      <th>Outlet_Size</th>\n",
       "      <th>Outlet_Location_Type</th>\n",
       "      <th>Outlet_Type</th>\n",
       "      <th>Item_Outlet_Sales</th>\n",
       "    </tr>\n",
       "  </thead>\n",
       "  <tbody>\n",
       "    <tr>\n",
       "      <th>0</th>\n",
       "      <td>FDA15</td>\n",
       "      <td>9.300</td>\n",
       "      <td>Low Fat</td>\n",
       "      <td>0.016047</td>\n",
       "      <td>Dairy</td>\n",
       "      <td>249.8092</td>\n",
       "      <td>OUT049</td>\n",
       "      <td>1999</td>\n",
       "      <td>Medium</td>\n",
       "      <td>Tier 1</td>\n",
       "      <td>Supermarket Type1</td>\n",
       "      <td>3735.1380</td>\n",
       "    </tr>\n",
       "    <tr>\n",
       "      <th>1</th>\n",
       "      <td>DRC01</td>\n",
       "      <td>5.920</td>\n",
       "      <td>Regular</td>\n",
       "      <td>0.019278</td>\n",
       "      <td>Soft Drinks</td>\n",
       "      <td>48.2692</td>\n",
       "      <td>OUT018</td>\n",
       "      <td>2009</td>\n",
       "      <td>Medium</td>\n",
       "      <td>Tier 3</td>\n",
       "      <td>Supermarket Type2</td>\n",
       "      <td>443.4228</td>\n",
       "    </tr>\n",
       "    <tr>\n",
       "      <th>2</th>\n",
       "      <td>FDN15</td>\n",
       "      <td>17.500</td>\n",
       "      <td>Low Fat</td>\n",
       "      <td>0.016760</td>\n",
       "      <td>Meat</td>\n",
       "      <td>141.6180</td>\n",
       "      <td>OUT049</td>\n",
       "      <td>1999</td>\n",
       "      <td>Medium</td>\n",
       "      <td>Tier 1</td>\n",
       "      <td>Supermarket Type1</td>\n",
       "      <td>2097.2700</td>\n",
       "    </tr>\n",
       "    <tr>\n",
       "      <th>3</th>\n",
       "      <td>FDX07</td>\n",
       "      <td>19.200</td>\n",
       "      <td>Regular</td>\n",
       "      <td>0.000000</td>\n",
       "      <td>Fruits and Vegetables</td>\n",
       "      <td>182.0950</td>\n",
       "      <td>OUT010</td>\n",
       "      <td>1998</td>\n",
       "      <td>NaN</td>\n",
       "      <td>Tier 3</td>\n",
       "      <td>Grocery Store</td>\n",
       "      <td>732.3800</td>\n",
       "    </tr>\n",
       "    <tr>\n",
       "      <th>4</th>\n",
       "      <td>NCD19</td>\n",
       "      <td>8.930</td>\n",
       "      <td>Low Fat</td>\n",
       "      <td>0.000000</td>\n",
       "      <td>Household</td>\n",
       "      <td>53.8614</td>\n",
       "      <td>OUT013</td>\n",
       "      <td>1987</td>\n",
       "      <td>High</td>\n",
       "      <td>Tier 3</td>\n",
       "      <td>Supermarket Type1</td>\n",
       "      <td>994.7052</td>\n",
       "    </tr>\n",
       "    <tr>\n",
       "      <th>5</th>\n",
       "      <td>FDP36</td>\n",
       "      <td>10.395</td>\n",
       "      <td>Regular</td>\n",
       "      <td>0.000000</td>\n",
       "      <td>Baking Goods</td>\n",
       "      <td>51.4008</td>\n",
       "      <td>OUT018</td>\n",
       "      <td>2009</td>\n",
       "      <td>Medium</td>\n",
       "      <td>Tier 3</td>\n",
       "      <td>Supermarket Type2</td>\n",
       "      <td>556.6088</td>\n",
       "    </tr>\n",
       "    <tr>\n",
       "      <th>6</th>\n",
       "      <td>FDO10</td>\n",
       "      <td>13.650</td>\n",
       "      <td>Regular</td>\n",
       "      <td>0.012741</td>\n",
       "      <td>Snack Foods</td>\n",
       "      <td>57.6588</td>\n",
       "      <td>OUT013</td>\n",
       "      <td>1987</td>\n",
       "      <td>High</td>\n",
       "      <td>Tier 3</td>\n",
       "      <td>Supermarket Type1</td>\n",
       "      <td>343.5528</td>\n",
       "    </tr>\n",
       "    <tr>\n",
       "      <th>7</th>\n",
       "      <td>FDP10</td>\n",
       "      <td>NaN</td>\n",
       "      <td>Low Fat</td>\n",
       "      <td>0.127470</td>\n",
       "      <td>Snack Foods</td>\n",
       "      <td>107.7622</td>\n",
       "      <td>OUT027</td>\n",
       "      <td>1985</td>\n",
       "      <td>Medium</td>\n",
       "      <td>Tier 3</td>\n",
       "      <td>Supermarket Type3</td>\n",
       "      <td>4022.7636</td>\n",
       "    </tr>\n",
       "    <tr>\n",
       "      <th>8</th>\n",
       "      <td>FDH17</td>\n",
       "      <td>16.200</td>\n",
       "      <td>Regular</td>\n",
       "      <td>0.016687</td>\n",
       "      <td>Frozen Foods</td>\n",
       "      <td>96.9726</td>\n",
       "      <td>OUT045</td>\n",
       "      <td>2002</td>\n",
       "      <td>NaN</td>\n",
       "      <td>Tier 2</td>\n",
       "      <td>Supermarket Type1</td>\n",
       "      <td>1076.5986</td>\n",
       "    </tr>\n",
       "    <tr>\n",
       "      <th>9</th>\n",
       "      <td>FDU28</td>\n",
       "      <td>19.200</td>\n",
       "      <td>Regular</td>\n",
       "      <td>0.094450</td>\n",
       "      <td>Frozen Foods</td>\n",
       "      <td>187.8214</td>\n",
       "      <td>OUT017</td>\n",
       "      <td>2007</td>\n",
       "      <td>NaN</td>\n",
       "      <td>Tier 2</td>\n",
       "      <td>Supermarket Type1</td>\n",
       "      <td>4710.5350</td>\n",
       "    </tr>\n",
       "  </tbody>\n",
       "</table>\n",
       "</div>"
      ],
      "text/plain": [
       "  Item_Identifier  Item_Weight Item_Fat_Content  Item_Visibility  \\\n",
       "0           FDA15        9.300          Low Fat         0.016047   \n",
       "1           DRC01        5.920          Regular         0.019278   \n",
       "2           FDN15       17.500          Low Fat         0.016760   \n",
       "3           FDX07       19.200          Regular         0.000000   \n",
       "4           NCD19        8.930          Low Fat         0.000000   \n",
       "5           FDP36       10.395          Regular         0.000000   \n",
       "6           FDO10       13.650          Regular         0.012741   \n",
       "7           FDP10          NaN          Low Fat         0.127470   \n",
       "8           FDH17       16.200          Regular         0.016687   \n",
       "9           FDU28       19.200          Regular         0.094450   \n",
       "\n",
       "               Item_Type  Item_MRP Outlet_Identifier  \\\n",
       "0                  Dairy  249.8092            OUT049   \n",
       "1            Soft Drinks   48.2692            OUT018   \n",
       "2                   Meat  141.6180            OUT049   \n",
       "3  Fruits and Vegetables  182.0950            OUT010   \n",
       "4              Household   53.8614            OUT013   \n",
       "5           Baking Goods   51.4008            OUT018   \n",
       "6            Snack Foods   57.6588            OUT013   \n",
       "7            Snack Foods  107.7622            OUT027   \n",
       "8           Frozen Foods   96.9726            OUT045   \n",
       "9           Frozen Foods  187.8214            OUT017   \n",
       "\n",
       "   Outlet_Establishment_Year Outlet_Size Outlet_Location_Type  \\\n",
       "0                       1999      Medium               Tier 1   \n",
       "1                       2009      Medium               Tier 3   \n",
       "2                       1999      Medium               Tier 1   \n",
       "3                       1998         NaN               Tier 3   \n",
       "4                       1987        High               Tier 3   \n",
       "5                       2009      Medium               Tier 3   \n",
       "6                       1987        High               Tier 3   \n",
       "7                       1985      Medium               Tier 3   \n",
       "8                       2002         NaN               Tier 2   \n",
       "9                       2007         NaN               Tier 2   \n",
       "\n",
       "         Outlet_Type  Item_Outlet_Sales  \n",
       "0  Supermarket Type1          3735.1380  \n",
       "1  Supermarket Type2           443.4228  \n",
       "2  Supermarket Type1          2097.2700  \n",
       "3      Grocery Store           732.3800  \n",
       "4  Supermarket Type1           994.7052  \n",
       "5  Supermarket Type2           556.6088  \n",
       "6  Supermarket Type1           343.5528  \n",
       "7  Supermarket Type3          4022.7636  \n",
       "8  Supermarket Type1          1076.5986  \n",
       "9  Supermarket Type1          4710.5350  "
      ]
     },
     "execution_count": 31,
     "metadata": {},
     "output_type": "execute_result"
    }
   ],
   "source": [
    "# Print the first 10 rows of the DataFrame\n",
    "Grc_df.head(10)\n"
   ]
  },
  {
   "cell_type": "code",
   "execution_count": 33,
   "id": "3cad3706-cde4-450b-8cdc-430e46e55c96",
   "metadata": {},
   "outputs": [
    {
     "data": {
      "text/html": [
       "<div>\n",
       "<style scoped>\n",
       "    .dataframe tbody tr th:only-of-type {\n",
       "        vertical-align: middle;\n",
       "    }\n",
       "\n",
       "    .dataframe tbody tr th {\n",
       "        vertical-align: top;\n",
       "    }\n",
       "\n",
       "    .dataframe thead th {\n",
       "        text-align: right;\n",
       "    }\n",
       "</style>\n",
       "<table border=\"1\" class=\"dataframe\">\n",
       "  <thead>\n",
       "    <tr style=\"text-align: right;\">\n",
       "      <th></th>\n",
       "      <th>Item_Identifier</th>\n",
       "      <th>Item_Weight</th>\n",
       "      <th>Item_Fat_Content</th>\n",
       "      <th>Item_Visibility</th>\n",
       "      <th>Item_Type</th>\n",
       "      <th>Item_MRP</th>\n",
       "      <th>Outlet_Identifier</th>\n",
       "      <th>Outlet_Establishment_Year</th>\n",
       "      <th>Outlet_Size</th>\n",
       "      <th>Outlet_Location_Type</th>\n",
       "      <th>Outlet_Type</th>\n",
       "      <th>Item_Outlet_Sales</th>\n",
       "    </tr>\n",
       "  </thead>\n",
       "  <tbody>\n",
       "    <tr>\n",
       "      <th>4990</th>\n",
       "      <td>FDE46</td>\n",
       "      <td>18.60</td>\n",
       "      <td>Low Fat</td>\n",
       "      <td>0.015859</td>\n",
       "      <td>Snack Foods</td>\n",
       "      <td>152.9366</td>\n",
       "      <td>OUT017</td>\n",
       "      <td>2007</td>\n",
       "      <td>NaN</td>\n",
       "      <td>Tier 2</td>\n",
       "      <td>Supermarket Type1</td>\n",
       "      <td>453.4098</td>\n",
       "    </tr>\n",
       "    <tr>\n",
       "      <th>4991</th>\n",
       "      <td>NCQ53</td>\n",
       "      <td>17.60</td>\n",
       "      <td>Low Fat</td>\n",
       "      <td>0.018905</td>\n",
       "      <td>Health and Hygiene</td>\n",
       "      <td>234.6590</td>\n",
       "      <td>OUT046</td>\n",
       "      <td>1997</td>\n",
       "      <td>Small</td>\n",
       "      <td>Tier 1</td>\n",
       "      <td>Supermarket Type1</td>\n",
       "      <td>8508.9240</td>\n",
       "    </tr>\n",
       "    <tr>\n",
       "      <th>4992</th>\n",
       "      <td>NCN42</td>\n",
       "      <td>20.25</td>\n",
       "      <td>Low Fat</td>\n",
       "      <td>0.014281</td>\n",
       "      <td>Household</td>\n",
       "      <td>148.0418</td>\n",
       "      <td>OUT018</td>\n",
       "      <td>2009</td>\n",
       "      <td>Medium</td>\n",
       "      <td>Tier 3</td>\n",
       "      <td>Supermarket Type2</td>\n",
       "      <td>1177.1344</td>\n",
       "    </tr>\n",
       "    <tr>\n",
       "      <th>4993</th>\n",
       "      <td>DRH11</td>\n",
       "      <td>5.98</td>\n",
       "      <td>Low Fat</td>\n",
       "      <td>0.075675</td>\n",
       "      <td>Hard Drinks</td>\n",
       "      <td>53.3614</td>\n",
       "      <td>OUT049</td>\n",
       "      <td>1999</td>\n",
       "      <td>Medium</td>\n",
       "      <td>Tier 1</td>\n",
       "      <td>Supermarket Type1</td>\n",
       "      <td>331.5684</td>\n",
       "    </tr>\n",
       "    <tr>\n",
       "      <th>4994</th>\n",
       "      <td>NCI42</td>\n",
       "      <td>18.75</td>\n",
       "      <td>Low Fat</td>\n",
       "      <td>0.010382</td>\n",
       "      <td>Household</td>\n",
       "      <td>207.8954</td>\n",
       "      <td>OUT049</td>\n",
       "      <td>1999</td>\n",
       "      <td>Medium</td>\n",
       "      <td>Tier 1</td>\n",
       "      <td>Supermarket Type1</td>\n",
       "      <td>2292.3494</td>\n",
       "    </tr>\n",
       "    <tr>\n",
       "      <th>4995</th>\n",
       "      <td>FDT07</td>\n",
       "      <td>5.82</td>\n",
       "      <td>Regular</td>\n",
       "      <td>0.077476</td>\n",
       "      <td>Fruits and Vegetables</td>\n",
       "      <td>255.3330</td>\n",
       "      <td>OUT045</td>\n",
       "      <td>2002</td>\n",
       "      <td>NaN</td>\n",
       "      <td>Tier 2</td>\n",
       "      <td>Supermarket Type1</td>\n",
       "      <td>4870.3270</td>\n",
       "    </tr>\n",
       "    <tr>\n",
       "      <th>4996</th>\n",
       "      <td>DRL60</td>\n",
       "      <td>8.52</td>\n",
       "      <td>Low Fat</td>\n",
       "      <td>0.027059</td>\n",
       "      <td>Soft Drinks</td>\n",
       "      <td>153.3682</td>\n",
       "      <td>OUT046</td>\n",
       "      <td>1997</td>\n",
       "      <td>Small</td>\n",
       "      <td>Tier 1</td>\n",
       "      <td>Supermarket Type1</td>\n",
       "      <td>914.8092</td>\n",
       "    </tr>\n",
       "    <tr>\n",
       "      <th>4997</th>\n",
       "      <td>FDG20</td>\n",
       "      <td>15.50</td>\n",
       "      <td>Regular</td>\n",
       "      <td>0.126200</td>\n",
       "      <td>Fruits and Vegetables</td>\n",
       "      <td>178.4028</td>\n",
       "      <td>OUT018</td>\n",
       "      <td>2009</td>\n",
       "      <td>Medium</td>\n",
       "      <td>Tier 3</td>\n",
       "      <td>Supermarket Type2</td>\n",
       "      <td>1239.7196</td>\n",
       "    </tr>\n",
       "    <tr>\n",
       "      <th>4998</th>\n",
       "      <td>FDF56</td>\n",
       "      <td>16.70</td>\n",
       "      <td>Regular</td>\n",
       "      <td>0.119462</td>\n",
       "      <td>Fruits and Vegetables</td>\n",
       "      <td>182.7976</td>\n",
       "      <td>OUT046</td>\n",
       "      <td>1997</td>\n",
       "      <td>Small</td>\n",
       "      <td>Tier 1</td>\n",
       "      <td>Supermarket Type1</td>\n",
       "      <td>1810.9760</td>\n",
       "    </tr>\n",
       "    <tr>\n",
       "      <th>4999</th>\n",
       "      <td>FDV33</td>\n",
       "      <td>9.60</td>\n",
       "      <td>Regular</td>\n",
       "      <td>0.027455</td>\n",
       "      <td>Snack Foods</td>\n",
       "      <td>258.1304</td>\n",
       "      <td>OUT018</td>\n",
       "      <td>2009</td>\n",
       "      <td>Medium</td>\n",
       "      <td>Tier 3</td>\n",
       "      <td>Supermarket Type2</td>\n",
       "      <td>2324.9736</td>\n",
       "    </tr>\n",
       "  </tbody>\n",
       "</table>\n",
       "</div>"
      ],
      "text/plain": [
       "     Item_Identifier  Item_Weight Item_Fat_Content  Item_Visibility  \\\n",
       "4990           FDE46        18.60          Low Fat         0.015859   \n",
       "4991           NCQ53        17.60          Low Fat         0.018905   \n",
       "4992           NCN42        20.25          Low Fat         0.014281   \n",
       "4993           DRH11         5.98          Low Fat         0.075675   \n",
       "4994           NCI42        18.75          Low Fat         0.010382   \n",
       "4995           FDT07         5.82          Regular         0.077476   \n",
       "4996           DRL60         8.52          Low Fat         0.027059   \n",
       "4997           FDG20        15.50          Regular         0.126200   \n",
       "4998           FDF56        16.70          Regular         0.119462   \n",
       "4999           FDV33         9.60          Regular         0.027455   \n",
       "\n",
       "                  Item_Type  Item_MRP Outlet_Identifier  \\\n",
       "4990            Snack Foods  152.9366            OUT017   \n",
       "4991     Health and Hygiene  234.6590            OUT046   \n",
       "4992              Household  148.0418            OUT018   \n",
       "4993            Hard Drinks   53.3614            OUT049   \n",
       "4994              Household  207.8954            OUT049   \n",
       "4995  Fruits and Vegetables  255.3330            OUT045   \n",
       "4996            Soft Drinks  153.3682            OUT046   \n",
       "4997  Fruits and Vegetables  178.4028            OUT018   \n",
       "4998  Fruits and Vegetables  182.7976            OUT046   \n",
       "4999            Snack Foods  258.1304            OUT018   \n",
       "\n",
       "      Outlet_Establishment_Year Outlet_Size Outlet_Location_Type  \\\n",
       "4990                       2007         NaN               Tier 2   \n",
       "4991                       1997       Small               Tier 1   \n",
       "4992                       2009      Medium               Tier 3   \n",
       "4993                       1999      Medium               Tier 1   \n",
       "4994                       1999      Medium               Tier 1   \n",
       "4995                       2002         NaN               Tier 2   \n",
       "4996                       1997       Small               Tier 1   \n",
       "4997                       2009      Medium               Tier 3   \n",
       "4998                       1997       Small               Tier 1   \n",
       "4999                       2009      Medium               Tier 3   \n",
       "\n",
       "            Outlet_Type  Item_Outlet_Sales  \n",
       "4990  Supermarket Type1           453.4098  \n",
       "4991  Supermarket Type1          8508.9240  \n",
       "4992  Supermarket Type2          1177.1344  \n",
       "4993  Supermarket Type1           331.5684  \n",
       "4994  Supermarket Type1          2292.3494  \n",
       "4995  Supermarket Type1          4870.3270  \n",
       "4996  Supermarket Type1           914.8092  \n",
       "4997  Supermarket Type2          1239.7196  \n",
       "4998  Supermarket Type1          1810.9760  \n",
       "4999  Supermarket Type2          2324.9736  "
      ]
     },
     "execution_count": 33,
     "metadata": {},
     "output_type": "execute_result"
    }
   ],
   "source": [
    "# Print the last 10 rows of the DataFrame\n",
    "Grc_df.tail(10)"
   ]
  },
  {
   "cell_type": "raw",
   "id": "b161f5c4-1a05-43ec-84a9-00d7d549bd39",
   "metadata": {},
   "source": []
  },
  {
   "cell_type": "markdown",
   "id": "d016384f-8172-41a9-9a90-b94d151ce36b",
   "metadata": {},
   "source": [
    "\n",
    "Question 2:\n",
    "\n",
    "Are there any null values in the Grc_df? If yes, then in which columns and how many?\n",
    "Finally, handle these null values using any strategy shown during the labs"
   ]
  },
  {
   "cell_type": "markdown",
   "id": "39acb989-d366-44f7-b150-c2287f8e5aa4",
   "metadata": {},
   "source": [
    "Answer:\n",
    "\n",
    "Yes, There are 818 null values in Item_Weight and 1439 null values in Outlet_Size."
   ]
  },
  {
   "cell_type": "code",
   "execution_count": 38,
   "id": "322470d6-43ec-47a0-9ea1-8c6b41760108",
   "metadata": {},
   "outputs": [
    {
     "name": "stdout",
     "output_type": "stream",
     "text": [
      "<class 'pandas.core.frame.DataFrame'>\n",
      "RangeIndex: 5000 entries, 0 to 4999\n",
      "Data columns (total 12 columns):\n",
      " #   Column                     Non-Null Count  Dtype  \n",
      "---  ------                     --------------  -----  \n",
      " 0   Item_Identifier            5000 non-null   object \n",
      " 1   Item_Weight                4182 non-null   float64\n",
      " 2   Item_Fat_Content           5000 non-null   object \n",
      " 3   Item_Visibility            5000 non-null   float64\n",
      " 4   Item_Type                  5000 non-null   object \n",
      " 5   Item_MRP                   5000 non-null   float64\n",
      " 6   Outlet_Identifier          5000 non-null   object \n",
      " 7   Outlet_Establishment_Year  5000 non-null   int64  \n",
      " 8   Outlet_Size                3561 non-null   object \n",
      " 9   Outlet_Location_Type       5000 non-null   object \n",
      " 10  Outlet_Type                5000 non-null   object \n",
      " 11  Item_Outlet_Sales          5000 non-null   float64\n",
      "dtypes: float64(4), int64(1), object(7)\n",
      "memory usage: 468.9+ KB\n"
     ]
    }
   ],
   "source": [
    "#Check is there are null values\n",
    "Grc_df.info()"
   ]
  },
  {
   "cell_type": "code",
   "execution_count": 44,
   "id": "685d5256-6e35-43d6-b26e-6f22a61e8a5c",
   "metadata": {},
   "outputs": [
    {
     "data": {
      "text/plain": [
       "Item_Identifier                 0\n",
       "Item_Weight                   818\n",
       "Item_Fat_Content                0\n",
       "Item_Visibility                 0\n",
       "Item_Type                       0\n",
       "Item_MRP                        0\n",
       "Outlet_Identifier               0\n",
       "Outlet_Establishment_Year       0\n",
       "Outlet_Size                  1439\n",
       "Outlet_Location_Type            0\n",
       "Outlet_Type                     0\n",
       "Item_Outlet_Sales               0\n",
       "dtype: int64"
      ]
     },
     "execution_count": 44,
     "metadata": {},
     "output_type": "execute_result"
    }
   ],
   "source": [
    "#Check the number of null values\n",
    "Grc_df = Grc_df.replace(' ', np.nan)\n",
    "Grc_df.isna().sum()"
   ]
  },
  {
   "cell_type": "code",
   "execution_count": 63,
   "id": "4d19181b-d314-4008-b473-d1951f04f30b",
   "metadata": {},
   "outputs": [],
   "source": [
    "\n",
    "#Finding the mean for Item_weight, skipping null values\n",
    "avgWeight = Grc_df['Item_Weight'].median()\n",
    "\n",
    "#Replacing null values of Item_weight with median\n",
    "Grc_df['Item_Weight'] = Grc_df['Item_Weight'].fillna(avgWeight)\n",
    "# Get the distribution of the non-null values\n",
    "dist = Grc_df['Outlet_Size'].value_counts(normalize=True)\n",
    "\n",
    "# Get a list of the categories\n",
    "categories = dist.index\n",
    "\n",
    "# Create a list to sample from, replicating the distribution\n",
    "fill_list = np.random.choice(categories, size=Grc_df['Outlet_Size'].isnull().sum(), p=dist.values)\n",
    "\n",
    "# Replace the NaN values in the DataFrame\n",
    "Grc_df.loc[Grc_df['Outlet_Size'].isnull(), 'Outlet_Size'] = fill_list"
   ]
  },
  {
   "cell_type": "markdown",
   "id": "ed714334-abc1-41c0-80cc-7b55d6fcae0a",
   "metadata": {},
   "source": [
    "\n",
    "\n",
    "Question 3:\n",
    "\n",
    "How many unique Outlet Sizes are there in the Grc_df? Which outlet size is maximum, and\n",
    "which is minimu?m"
   ]
  },
  {
   "cell_type": "code",
   "execution_count": 81,
   "id": "8249fe39-5b62-4444-a728-07eadbfd480f",
   "metadata": {},
   "outputs": [
    {
     "data": {
      "text/plain": [
       "array(['Medium', 'High', 'Small'], dtype=object)"
      ]
     },
     "execution_count": 81,
     "metadata": {},
     "output_type": "execute_result"
    }
   ],
   "source": [
    "#Check for number of unique Outlet Sizes\n",
    "Grc_df.Outlet_Size.unique()"
   ]
  },
  {
   "cell_type": "code",
   "execution_count": 83,
   "id": "ad86c415-e3f9-40d4-9fcc-2b688d9c06af",
   "metadata": {},
   "outputs": [
    {
     "data": {
      "text/plain": [
       "'Small'"
      ]
     },
     "execution_count": 83,
     "metadata": {},
     "output_type": "execute_result"
    }
   ],
   "source": [
    "#Check for the most frequent(maximum) Outlet Size\n",
    "Grc_df.Outlet_Size.max()"
   ]
  },
  {
   "cell_type": "code",
   "execution_count": 85,
   "id": "51329d6e-7ff6-426f-a0d5-90beef16e4f6",
   "metadata": {},
   "outputs": [
    {
     "data": {
      "text/plain": [
       "'High'"
      ]
     },
     "execution_count": 85,
     "metadata": {},
     "output_type": "execute_result"
    }
   ],
   "source": [
    "#Check for the least frequent(minimum) Outlet Size\n",
    "Grc_df.Outlet_Size.min()"
   ]
  },
  {
   "cell_type": "raw",
   "id": "e18b0c51-c97a-44de-88f5-bda5b682d250",
   "metadata": {},
   "source": []
  },
  {
   "cell_type": "markdown",
   "id": "ab53ff3a-8b0e-4aa5-a7a8-f776849b25fe",
   "metadata": {},
   "source": [
    "Question 4:\n",
    "\n",
    "How many unique Item Fat Content types are in the Grc_df? List them. Do you see any\n",
    "issues with the Item Fat Content types? If yes, then handle this issue"
   ]
  },
  {
   "cell_type": "markdown",
   "id": "e859e010-de9c-4f2a-a850-784b4c56b14d",
   "metadata": {},
   "source": [
    "The 'Regular' and 'Low Fat' category labels in the dataset are inconsistent. Terms such as \"low fat,\" \"LF,\" and \"reg\" are interchangeable. Only 'Low Fat' and 'Regular' should be the only labels we use in order to preserve consistency in our data."
   ]
  },
  {
   "cell_type": "code",
   "execution_count": 88,
   "id": "6dcc4f6b-f521-448b-9c10-3ee24fc13fd6",
   "metadata": {},
   "outputs": [
    {
     "data": {
      "text/plain": [
       "array(['Low Fat', 'Regular', 'low fat', 'LF', 'reg'], dtype=object)"
      ]
     },
     "execution_count": 88,
     "metadata": {},
     "output_type": "execute_result"
    }
   ],
   "source": [
    "Grc_df.Item_Fat_Content.unique()"
   ]
  },
  {
   "cell_type": "code",
   "execution_count": 90,
   "id": "ee6872b6-2746-4dbc-aa19-7883bf005c2f",
   "metadata": {},
   "outputs": [],
   "source": [
    "# Create a dictionary of terms we want to replace\n",
    "replace_dict = {'low fat': 'Low Fat', 'LF': 'Low Fat', 'reg': 'Regular'}\n",
    "\n",
    "# Replace terms in the table according to replace_dict\n",
    "Grc_df['Item_Fat_Content'] = Grc_df['Item_Fat_Content'].replace(replace_dict)"
   ]
  },
  {
   "cell_type": "markdown",
   "id": "08873555",
   "metadata": {},
   "source": [
    "Question 7: \n",
    "\n",
    "Using Seaborn (“ggplot style”) create a (2,1) subplot of a box plot showing 5-point  summary of the column Item_MRP for SupType_1 and SupType_2. Which Outlet Type has  a higher median MRP? \n",
    "\n",
    "Answer: By comparing the median line inside each box, Supermarket type 1 have a higher median MRP compared to Supermarket type 2.\n",
    "\n",
    "Are there any outliers?  \n",
    "\n",
    "Answer: Yes, both box plots show outliers, as indicated by the table outside the wiskers to the side."
   ]
  },
  {
   "cell_type": "code",
   "execution_count": 30,
   "id": "5307ebfc",
   "metadata": {},
   "outputs": [
    {
     "data": {
      "image/png": "[encoded data removed]",
      "text/plain": [
       "<Figure size 1800x1500 with 2 Axes>"
      ]
     },
     "metadata": {},
     "output_type": "display_data"
    }
   ],
   "source": [
    "# Import the seaborn and matplotlib libraries\n",
    "import seaborn as sns\n",
    "import matplotlib.pyplot as plt\n",
    " \n",
    "\n",
    "# Define Grc_df as the DataFrame to be plotted\n",
    "Grc_df = pd.read_csv('Grocery_dataset.csv')\n",
    "\n",
    "# Filter the data to include only the two outlet types\n",
    "outlet_types = ['Supermarket Type1', 'Supermarket Type2']\n",
    "filtered_data = Grc_df[Grc_df['Outlet_Type'].isin(outlet_types)]\n",
    "\n",
    "# Set the style of the plot\n",
    "plt.style.use('ggplot')\n",
    "\n",
    "# Create a figure and a set of subplots\n",
    "fig, axes = plt.subplots(2, 1, figsize=(12, 10), dpi=150)\n",
    "\n",
    "# Create boxplots for the two outlet types\n",
    "sns.boxplot(ax=axes[0], x='Outlet_Type', y='Item_MRP', data=filtered_data[filtered_data['Outlet_Type'] == 'Supermarket Type1'], fliersize=5)\n",
    "axes[0].set_title('Supermarket Type1 - Item MRP')\n",
    "sns.boxplot(ax=axes[1], x='Outlet_Type', y='Item_MRP', data=filtered_data[filtered_data['Outlet_Type'] == 'Supermarket Type2'], fliersize=5)\n",
    "axes[1].set_title('Supermarket Type2 - Item MRP')\n",
    "\n",
    "# Adjust the layout\n",
    "plt.tight_layout()\n",
    "\n",
    "# Display the plot\n",
    "plt.show()\n"
   ]
  },
  {
   "cell_type": "markdown",
   "id": "bc9f985b",
   "metadata": {},
   "source": [
    "Question 8:\n",
    "\n",
    "Concatenate the DataFrames SupType_1 and SupType_2 to create a new DataFrame Grc_Concat_df and sort it in ascending order based on the column Item_Outlet_Sales.  \n",
    "\n",
    "Item_Identifier  Item_Weight Item_Fat_Content  Item_Visibility  \\\n",
    "2370           NCA06       20.500          Low Fat         0.143164   \n",
    "1657           FDL52        6.635          Regular         0.046278   \n",
    "1543           FDA39        6.320          Low Fat         0.012770   \n",
    "3586           NCR42        9.105          Low Fat         0.038560   \n",
    "2711           NCO06       19.250          Low Fat         0.108030   \n",
    "\n",
    "         Item_Type  Item_MRP Outlet_Identifier  Outlet_Establishment_Year  \\\n",
    "2370     Household   34.9190            OUT013                       1987   \n",
    "1657  Frozen Foods   36.7506            OUT018                       2009   \n",
    "1543          Meat   39.9822            OUT018                       2009   \n",
    "3586     Household   33.8900            OUT045                       2002   \n",
    "2711     Household   32.4558            OUT046                       1997   \n",
    "\n",
    "     Outlet_Size Outlet_Location_Type        Outlet_Type  Item_Outlet_Sales  \n",
    "2370        High               Tier 3  Supermarket Type1            73.2380  \n",
    "1657      Medium               Tier 3  Supermarket Type2            75.9012  \n",
    "1543      Medium               Tier 3  Supermarket Type2            78.5644  \n",
    "3586         NaN               Tier 2  Supermarket Type1            99.8700  \n",
    "2711       Small               Tier 1  Supermarket Type1           101.8674  \n",
    "\n",
    "What is the Outlet_Location_type of the store with the lowest sales?  \n",
    "\n",
    "Answer: The store with the lowest sales is Outlet_location_Type of Tier 3.\n"
   ]
  },
  {
   "cell_type": "code",
   "execution_count": 26,
   "id": "b1f8e35b",
   "metadata": {},
   "outputs": [
    {
     "name": "stdout",
     "output_type": "stream",
     "text": [
      "     Item_Identifier  Item_Weight Item_Fat_Content  Item_Visibility  \\\n",
      "2370           NCA06       20.500          Low Fat         0.143164   \n",
      "1657           FDL52        6.635          Regular         0.046278   \n",
      "1543           FDA39        6.320          Low Fat         0.012770   \n",
      "3586           NCR42        9.105          Low Fat         0.038560   \n",
      "2711           NCO06       19.250          Low Fat         0.108030   \n",
      "\n",
      "         Item_Type  Item_MRP Outlet_Identifier  Outlet_Establishment_Year  \\\n",
      "2370     Household   34.9190            OUT013                       1987   \n",
      "1657  Frozen Foods   36.7506            OUT018                       2009   \n",
      "1543          Meat   39.9822            OUT018                       2009   \n",
      "3586     Household   33.8900            OUT045                       2002   \n",
      "2711     Household   32.4558            OUT046                       1997   \n",
      "\n",
      "     Outlet_Size Outlet_Location_Type        Outlet_Type  Item_Outlet_Sales  \n",
      "2370        High               Tier 3  Supermarket Type1            73.2380  \n",
      "1657      Medium               Tier 3  Supermarket Type2            75.9012  \n",
      "1543      Medium               Tier 3  Supermarket Type2            78.5644  \n",
      "3586         NaN               Tier 2  Supermarket Type1            99.8700  \n",
      "2711       Small               Tier 1  Supermarket Type1           101.8674  \n"
     ]
    }
   ],
   "source": [
    "# Filter the DataFrame for 'Supermarket Type1' and 'Supermarket Type2'\n",
    "SupType_1 = Grc_df[Grc_df['Outlet_Type'] == 'Supermarket Type1']\n",
    "SupType_2 = Grc_df[Grc_df['Outlet_Type'] == 'Supermarket Type2']\n",
    "\n",
    "# Concatenate the two subsets\n",
    "Grc_Concat_df = pd.concat([SupType_1, SupType_2])\n",
    "\n",
    "# Sort the DataFrame by 'Item_Outlet_Sales' in ascending order\n",
    "Grc_Concat_df_sorted = Grc_Concat_df.sort_values(by='Item_Outlet_Sales', ascending=True)\n",
    "\n",
    "# Print the first 5 rows of the sorted DataFrame\n",
    "print(Grc_Concat_df_sorted.head())\n"
   ]
  },
  {
   "cell_type": "code",
   "execution_count": 28,
   "id": "72fdf73c",
   "metadata": {},
   "outputs": [
    {
     "name": "stdout",
     "output_type": "stream",
     "text": [
      "Tier 3\n"
     ]
    }
   ],
   "source": [
    "# Find the location with the lowest sales\n",
    "lowest_sales_location = Grc_Concat_df_sorted.iloc[0]['Outlet_Location_Type']\n",
    "\n",
    "# Print the location with the lowest sales\n",
    "print(lowest_sales_location)"
   ]
  },
  {
   "cell_type": "markdown",
   "id": "577f7f4c",
   "metadata": {},
   "source": [
    "Question 9:\n",
    "\n",
    "Using columns Outlet_Size and Outlet_Location_Type to create a multiple index for  Grc_Concat_df."
   ]
  },
  {
   "cell_type": "code",
   "execution_count": 31,
   "id": "185963a1",
   "metadata": {},
   "outputs": [
    {
     "name": "stdout",
     "output_type": "stream",
     "text": [
      "                                 Item_Identifier  Item_Weight  \\\n",
      "Outlet_Size Outlet_Location_Type                                \n",
      "Medium      Tier 1                         FDA15         9.30   \n",
      "            Tier 1                         FDN15        17.50   \n",
      "High        Tier 3                         NCD19         8.93   \n",
      "            Tier 3                         FDO10        13.65   \n",
      "NaN         Tier 2                         FDH17        16.20   \n",
      "\n",
      "                                 Item_Fat_Content  Item_Visibility  \\\n",
      "Outlet_Size Outlet_Location_Type                                     \n",
      "Medium      Tier 1                        Low Fat         0.016047   \n",
      "            Tier 1                        Low Fat         0.016760   \n",
      "High        Tier 3                        Low Fat         0.000000   \n",
      "            Tier 3                        Regular         0.012741   \n",
      "NaN         Tier 2                        Regular         0.016687   \n",
      "\n",
      "                                     Item_Type  Item_MRP Outlet_Identifier  \\\n",
      "Outlet_Size Outlet_Location_Type                                             \n",
      "Medium      Tier 1                       Dairy  249.8092            OUT049   \n",
      "            Tier 1                        Meat  141.6180            OUT049   \n",
      "High        Tier 3                   Household   53.8614            OUT013   \n",
      "            Tier 3                 Snack Foods   57.6588            OUT013   \n",
      "NaN         Tier 2                Frozen Foods   96.9726            OUT045   \n",
      "\n",
      "                                  Outlet_Establishment_Year  \\\n",
      "Outlet_Size Outlet_Location_Type                              \n",
      "Medium      Tier 1                                     1999   \n",
      "            Tier 1                                     1999   \n",
      "High        Tier 3                                     1987   \n",
      "            Tier 3                                     1987   \n",
      "NaN         Tier 2                                     2002   \n",
      "\n",
      "                                        Outlet_Type  Item_Outlet_Sales  \n",
      "Outlet_Size Outlet_Location_Type                                        \n",
      "Medium      Tier 1                Supermarket Type1          3735.1380  \n",
      "            Tier 1                Supermarket Type1          2097.2700  \n",
      "High        Tier 3                Supermarket Type1           994.7052  \n",
      "            Tier 3                Supermarket Type1           343.5528  \n",
      "NaN         Tier 2                Supermarket Type1          1076.5986  \n"
     ]
    }
   ],
   "source": [
    "# Find the location with the highest sales\n",
    "Grc_Concat_df_multi_index = Grc_Concat_df.set_index(['Outlet_Size', 'Outlet_Location_Type'])\n",
    "\n",
    "# Print the first 5 rows of the DataFrame with the multi-index\n",
    "print(Grc_Concat_df_multi_index.head())"
   ]
  },
  {
   "cell_type": "markdown",
   "id": "a497b5ec",
   "metadata": {},
   "source": [
    "Question 10:\n",
    "\n",
    "Cut the column Item_Weight of Grc_Concat_df into 10 buckets and compute each bucket's  mean, minimum, maximum, and count. "
   ]
  },
  {
   "cell_type": "code",
   "execution_count": 33,
   "id": "5b8cc8fc",
   "metadata": {},
   "outputs": [
    {
     "name": "stdout",
     "output_type": "stream",
     "text": [
      "                         mean     min     max  count\n",
      "Item_Weight_Bucket                                  \n",
      "(4.538, 6.234]       5.623814   4.555   6.215    253\n",
      "(6.234, 7.914]       7.121807   6.235   7.905    476\n",
      "(7.914, 9.594]       8.761867   7.930   9.500    450\n",
      "(9.594, 11.273]     10.344917   9.600  11.150    362\n",
      "(11.273, 12.952]    12.081635  11.300  12.850    419\n",
      "(12.952, 14.632]    13.716193  13.000  14.600    352\n",
      "(14.632, 16.312]    15.495976  14.650  16.250    410\n",
      "(16.312, 17.991]    17.172672  16.350  17.850    408\n",
      "(17.991, 19.671]    18.838005  18.000  19.600    396\n",
      "(19.671, 21.35]     20.357012  19.700  21.350    328\n"
     ]
    },
    {
     "name": "stderr",
     "output_type": "stream",
     "text": [
      "/var/folders/53/c475jdwd0m74dv3x77vvmvzh0000gn/T/ipykernel_38708/1198489076.py:5: FutureWarning: The default of observed=False is deprecated and will be changed to True in a future version of pandas. Pass observed=False to retain current behavior or observed=True to adopt the future default and silence this warning.\n",
      "  bucket_stats = Grc_Concat_df.groupby('Item_Weight_Bucket')['Item_Weight'].agg(['mean', 'min', 'max', 'count'])\n"
     ]
    }
   ],
   "source": [
    "# Find the location with the highest sales\n",
    "Grc_Concat_df['Item_Weight_Bucket'] = pd.cut(Grc_Concat_df['Item_Weight'], bins=10)\n",
    "\n",
    "# Group the data by 'Item_Weight_Bucket' and calculate the mean, min, max, and count\n",
    "bucket_stats = Grc_Concat_df.groupby('Item_Weight_Bucket')['Item_Weight'].agg(['mean', 'min', 'max', 'count'])\n",
    "\n",
    "# Print the bucket statistics\n",
    "print(bucket_stats)\n"
   ]
  }
 ],
 "metadata": {
  "kernelspec": {
   "display_name": "Python 3 (ipykernel)",
   "language": "python",
   "name": "python3"
  },
  "language_info": {
   "codemirror_mode": {
    "name": "ipython",
    "version": 3
   },
   "file_extension": ".py",
   "mimetype": "text/x-python",
   "name": "python",
   "nbconvert_exporter": "python",
   "pygments_lexer": "ipython3",
   "version": "3.12.2"
  }
 },
 "nbformat": 4,
 "nbformat_minor": 5
}
